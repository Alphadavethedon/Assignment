{
  "nbformat": 4,
  "nbformat_minor": 0,
  "metadata": {
    "colab": {
      "provenance": []
    },
    "kernelspec": {
      "name": "python3",
      "display_name": "Python 3"
    },
    "language_info": {
      "name": "python"
    }
  },
  "cells": [
    {
      "cell_type": "code",
      "execution_count": null,
      "metadata": {
        "id": "ffzM5LXYB-DS"
      },
      "outputs": [],
      "source": [
        "\n",
        "num1 = float(input(\"1: \"))\n",
        "num2 = float(input(\"2: \"))\n",
        "operation = input(\"+ : \")\n",
        "\n",
        "\n",
        "if operation == '+':\n",
        "    result = num1 + num2\n",
        "elif operation == '-':\n",
        "    result = num1 - num2\n",
        "elif operation == '*':\n",
        "    result = num1 * num2\n",
        "elif operation == '/':\n",
        "\n",
        "    if num2 != 0:\n",
        "        result = num1 / num2\n",
        "    else:\n",
        "        result = \"Error! Division by zero.\"\n",
        "else:\n",
        "    result = \"Invalid operation.\"\n",
        "\n",
        "\n",
        "print(f\"The result of {num1} {operation} {num2} is: {result}\")\n"
      ]
    }
  ]
}